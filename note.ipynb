{
 "cells": [
  {
   "cell_type": "code",
   "execution_count": 1,
   "metadata": {},
   "outputs": [
    {
     "name": "stdout",
     "output_type": "stream",
     "text": [
      "\u0004\u000bstreamtyped\u0003\u0001@\u000eNSMutableArray\u0000\u0007NSArrayNSObject\u0000\u0001i*\u0003ROI\u000bNSString\u0001\u0001+\u001e{{2964.62, 3427.98}, {75, 19}NSNumber\u0000\u0007NSValue\u0000\u0001*\u0001f\u0013\u0000\u0003\u0000F?\u0000\u0000\u0000\u0000\n",
      "Calcification\u0000)\\=\u0006{0, 0})\\=\u0000\u0000\u0000\u0000\u0001c\u0000\u0001d\u0000\u0001\u0000\u001e{{2993.16, 3403.55}, {75, 19}}\u0013\u0000\u0003\u0000F?\u0000\u0000\u0000\u0000\n",
      "Calcification)\\=)\\=\u0000\u0000\u0000\u0000\u0000\u001e{{2188.58, 3125.03}, {75, 19}}\u0013\u0000\u0003\u0000F?\u0000\u0000\u0000\u0000\n",
      "Calcification)\\=)\\=\u0000\u0000\u0000\u0000\u0000\u001d{{3187.4, 1992.24}, {75, 19}}\u0013\u0000\u0003\u0000F?\u0000\u0000\u0000\u0000\n",
      "Calcification)\\=)\\=\u0000\u0000\u0000\u0000\t\u0007MyPoint\u0000\u0012{2290.43, 2835.27}\u0012{2292.78, 2835.69}\u0011{2294.86, 2837.9}\u0012{2295.27, 2840.12}\u0011{2294.3, 2842.47}\u0012{2292.09, 2843.86}\u0012{2290.01, 2842.61}\u0012{2288.76, 2840.54}\u0012{2288.21, 2837.63}\u0010{{0, 0}, {0, 0}}\u000f\u0000\u0003\u0000F?\u0000\u0000\u0000\u0000\n",
      "Calcification)\\=)\\=\u0001\u0000\u0000\u0000\u0000\u001e{{2996.14, 1215.06}, {75, 19}}\u0013\u0000\u0003\u0000F?\u0000\u0000\u0000\u0000\n",
      "Calcification)\\=)\\=\u0000\u0000\u0000\u0000\u0000\u001e{{2331.35, 2866.87}, {75, 19}}\u0013\u0000\u0003\u0000F?\u0000\u0000\u0000\u0000\n",
      "Calcification)\\=)\\=\u0000\u0000\u0000\u0000\u0000\u001e{{2810.34, 1220.81}, {75, 19}}\u0013\u0000\u0003\u0000F?\u0000\u0000\u0000\u0000\n",
      "Calcification)\\=)\\=\u0000\u0000\u0000\u0000\u0000\u001d{{2666.79, 720.11}, {75, 19}}\u0013\u0000\u0003\u0000F?\u0000\u0000\u0000\u0000\n",
      "Calcification)\\=)\\=\u0000\u0000\u0000\u0000\u0000\u001e{{2546.55, 1697.32}, {75, 19}}\u0013\u0000\u0003\u0000F?\u0000\u0000\u0000\u0000\n"
     ]
    }
   ],
   "source": [
    "# Đường dẫn tới file ROI\n",
    "roi_path = \"/home/neeyuhuynh/Desktop/Breast-Cancer-Detection-Mammogram-Deep-Learning-Publication/data/INbreast/AllROI/20586908.roi\"\n",
    "\n",
    "# 1) Đọc toàn bộ nội dung vào list các dòng\n",
    "with open(roi_path, \"r\", encoding=\"utf-8\", errors=\"ignore\") as f:\n",
    "    lines = f.readlines()\n",
    "\n",
    "# 2) In 10 dòng đầu để kiểm tra\n",
    "for line in lines[:10]:\n",
    "    print(line.strip())"
   ]
  },
  {
   "cell_type": "code",
   "execution_count": 19,
   "metadata": {},
   "outputs": [
    {
     "name": "stdout",
     "output_type": "stream",
     "text": [
      "Parsed 261 points, first 10: [(2964, 3427), (0, 0), (2993, 3403), (2188, 3125), (3187, 1992), (2290, 2835), (2292, 2835), (2294, 2837), (2295, 2840), (2294, 2842)]\n"
     ]
    }
   ],
   "source": [
    "import re\n",
    "\n",
    "def load_roi_and_label(roi_path: str):\n",
    "    \"\"\"\n",
    "    Đọc .roi của INbreast bằng regex để lấy list (x,y).\n",
    "    Trả về coords: List[(x:int,y:int)] và label_name theo config.\n",
    "    \"\"\"\n",
    "    # 1) Load file nhị phân, decode bỏ lỗi\n",
    "    raw = open(roi_path, 'rb').read().decode('utf-8', errors='ignore')\n",
    "\n",
    "    # 2) Regex bắt mọi cặp {x, y}\n",
    "    pts = re.findall(r'\\{\\s*([\\d\\.]+)\\s*,\\s*([\\d\\.]+)\\s*\\}', raw)\n",
    "    if not pts:\n",
    "        return None, None\n",
    "\n",
    "    # 3) Chuyển và lọc bỏ các cặp mặc định {75, 19}\n",
    "    coords = []\n",
    "    for xs, ys in pts:\n",
    "        x, y = float(xs), float(ys)\n",
    "        # bỏ qua patch‐size entries\n",
    "        if abs(x - 75.0) < 1e-6 and abs(y - 19.0) < 1e-6:\n",
    "            continue\n",
    "        coords.append((int(x), int(y)))\n",
    "\n",
    "    if not coords:\n",
    "        return None, None\n",
    "    return coords\n",
    "    # # 4) Map BI-RADS → label (giữ nguyên logic cũ)\n",
    "    # fn        = os.path.basename(roi_path)\n",
    "    # pid_base  = os.path.splitext(fn)[0].split('_', 1)[0]\n",
    "    # birad_val = config.INBREAST_BIRADS_MAPPING_RAW.get(pid_base)\n",
    "    # if birad_val is None:\n",
    "    #     return None, None\n",
    "\n",
    "    # label_name = None\n",
    "    # for cls, vals in config.INBREAST_BIRADS_MAPPING.items():\n",
    "    #     normalized = [v.replace(\"BI-RADS\", \"\").strip() for v in vals]\n",
    "    #     if str(birad_val) in normalized:\n",
    "    #         label_name = cls\n",
    "    #         break\n",
    "roi_path = \"/home/neeyuhuynh/Desktop/Breast-Cancer-Detection-Mammogram-Deep-Learning-Publication/data/INbreast/AllROI/20586908.roi\"\n",
    "    # return coords, label_name\n",
    "coords = load_roi_and_label(roi_path)\n",
    "print(f\"Parsed {len(coords)} points, first 10:\", coords[:10])"
   ]
  },
  {
   "cell_type": "code",
   "execution_count": 12,
   "metadata": {},
   "outputs": [
    {
     "name": "stdout",
     "output_type": "stream",
     "text": [
      "Collecting biplist\n",
      "  Downloading biplist-1.0.3.tar.gz (21 kB)\n",
      "Building wheels for collected packages: biplist\n",
      "  Building wheel for biplist (setup.py) ... \u001b[?25ldone\n",
      "\u001b[?25h  Created wheel for biplist: filename=biplist-1.0.3-py3-none-any.whl size=11121 sha256=a5ed1e5f2a90a436aab050f8bf6edb473bb940492071114b39681de6208295cc\n",
      "  Stored in directory: /home/neeyuhuynh/.cache/pip/wheels/3f/c6/89/3b173d43b4e719e9a4e973412c370325871f277ca551d8815f\n",
      "Successfully built biplist\n",
      "Installing collected packages: biplist\n",
      "Successfully installed biplist-1.0.3\n"
     ]
    }
   ],
   "source": [
    "# Trong cell notebook, trước khi import\n",
    "!pip install biplist"
   ]
  },
  {
   "cell_type": "code",
   "execution_count": 18,
   "metadata": {},
   "outputs": [
    {
     "name": "stdout",
     "output_type": "stream",
     "text": [
      "Parsed 0 points, first 10: []\n"
     ]
    }
   ],
   "source": [
    "import re\n",
    "\n",
    "def load_roi(roi_path: str):\n",
    "    \"\"\"\n",
    "    Đọc .roi của INbreast bằng regex để lấy list (x,y).\n",
    "    \"\"\"\n",
    "    # 1) Load toàn bộ file nhị phân, decode bỏ lỗi\n",
    "    raw = open(roi_path, 'rb').read().decode('utf-8', errors='ignore')\n",
    "\n",
    "    # 2) Regex bắt mọi cặp (x,y) (có thể là float)\n",
    "    pts = re.findall(r'\\(\\s*([\\d\\.]+)\\s*,\\s*([\\d\\.]+)\\s*\\)', raw)\n",
    "    if not pts:\n",
    "        return []\n",
    "\n",
    "    # 3) Chuyển thành int pixel\n",
    "    coords = [(int(float(x)), int(float(y))) for x, y in pts]\n",
    "    return coords\n",
    "\n",
    "# === Test thử ===\n",
    "roi_path = \"/home/neeyuhuynh/Desktop/Breast-Cancer-Detection-Mammogram-Deep-Learning-Publication/data/INbreast/AllROI/20586908.roi\"\n",
    "coords = load_roi(roi_path)\n",
    "print(f\"Parsed {len(coords)} points, first 10:\", coords[:10])\n"
   ]
  },
  {
   "cell_type": "code",
   "execution_count": 9,
   "metadata": {},
   "outputs": [
    {
     "name": "stdout",
     "output_type": "stream",
     "text": [
      "/usr/bin/sh: 1: plutil: not found\n"
     ]
    }
   ],
   "source": [
    "!plutil -convert xml1 -o - /home/neeyuhuynh/Desktop/Breast-Cancer-Detection-Mammogram-Deep-Learning-Publication/data/INbreast/AllROI/20586908.roi"
   ]
  },
  {
   "cell_type": "code",
   "execution_count": 3,
   "metadata": {},
   "outputs": [
    {
     "name": "stdout",
     "output_type": "stream",
     "text": [
      "<?xml version=\"1.0\" encoding=\"UTF-8\"?>\n",
      "<!DOCTYPE plist PUBLIC \"-//Apple//DTD PLIST 1.0//EN\" \"http://www.apple.com/DTDs/PropertyList-1.0.dtd\">\n",
      "<plist version=\"1.0\">\n",
      "<dict>\n",
      "<key>Images</key>\n",
      "<array>\n",
      "<dict>\n",
      "<key>ImageIndex</key>\n",
      "<integer>0</integer>\n",
      "<key>NumberOfROIs</key>\n"
     ]
    }
   ],
   "source": [
    "# Đường dẫn tới file ROI\n",
    "roi_path = \"/home/neeyuhuynh/Desktop/Breast-Cancer-Detection-Mammogram-Deep-Learning-Publication/data/INbreast/AllXML/20586908.xml\"\n",
    "\n",
    "# 1) Đọc toàn bộ nội dung vào list các dòng\n",
    "with open(roi_path, \"r\", encoding=\"utf-8\", errors=\"ignore\") as f:\n",
    "    lines = f.readlines()\n",
    "\n",
    "# 2) In 10 dòng đầu để kiểm tra\n",
    "for line in lines[:10]:\n",
    "    print(line.strip())"
   ]
  },
  {
   "cell_type": "code",
   "execution_count": null,
   "metadata": {},
   "outputs": [],
   "source": []
  }
 ],
 "metadata": {
  "kernelspec": {
   "display_name": "mammography",
   "language": "python",
   "name": "python3"
  },
  "language_info": {
   "codemirror_mode": {
    "name": "ipython",
    "version": 3
   },
   "file_extension": ".py",
   "mimetype": "text/x-python",
   "name": "python",
   "nbconvert_exporter": "python",
   "pygments_lexer": "ipython3",
   "version": "3.6.13"
  }
 },
 "nbformat": 4,
 "nbformat_minor": 2
}
